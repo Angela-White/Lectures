{
 "cells": [
  {
   "cell_type": "markdown",
   "metadata": {},
   "source": [
    "# Lecture 3, Solving Systems of ODE's and Newtons 2nd law\n",
    "\n",
    "\n",
    "**Overview:**\n",
    "* Reducing nth order ODE's to 1st order.\n",
    "* Solving Newton's 2nd law.\n",
    "    * A simple fix for the Euler method: Reading Euler-Cromer method Euler_Cromer.pdf\n",
    "* Intro to object oriented programing in Python, beginning to develop our \"particle\" class.\n",
    "\n",
    "**Next Lecture:** Developing a physical model and more object oriented practice, continuing development of our particle class\n",
    "\n",
    "---"
   ]
  },
  {
   "cell_type": "markdown",
   "metadata": {},
   "source": [
    "In this lecture workbook, we will begin to explore object oriented programming in python. We will do this by developing a class called `particle.py` that will be used throughout most of PHYS 1600/2600.  "
   ]
  },
  {
   "cell_type": "markdown",
   "metadata": {},
   "source": [
    "### Tasks:\n",
    "\n",
    "1. Create an instance of the Particle method called \"free_ball\". Explore the attributes of free_ball, do you understand what `__init__` is doing? Do you understand what the purpose of the argument `self` is ?\n",
    "2. Implement a method in particle.py to increment the current position using an RK2 step. \n",
    "3. Calculate the trajectory of a particle falling under gravity using both the RK2 and Euler methods.\n",
    "4. Use the plot method of particle.py to plot both the Euler and RK2 trajectories .\n",
    "5. Create a sub-class for a 1-Dimensional particle in a simple harmonic potential.\n",
    "6. Generate phase space and trajectory plots for the SHO comparing the exact, Euler, and  RK2, solutions. You might want to extend your previous plot method to do this.\n",
    "6. In the SHO sub class, include a method to calculate the total energy of the SHO, plot the relative error in energy for the Euler, RK4, and scipy odeint solutions.\n",
    " \n",
    " \n",
    " "
   ]
  },
  {
   "cell_type": "markdown",
   "metadata": {},
   "source": [
    "**The Particle class is defined below**"
   ]
  },
  {
   "cell_type": "code",
   "execution_count": 15,
   "metadata": {},
   "outputs": [],
   "source": [
    "import matplotlib.pyplot as plt # for plotting          \n",
    "import numpy as np\n",
    "\n",
    "class Particle (object):\n",
    "\n",
    "    \"\"\"Class that describes particle\"\"\"\n",
    "    def __init__(self, m = 1.0, y0=1.0, v0=0.0,  tf = 10.0, dt = 0.01):\n",
    "        '''\n",
    "        This is the initialiation method. It is run automatically everytime a new instance of our particle class\n",
    "        is created. \n",
    "        '''\n",
    "        \n",
    "        print(\"Particle init'ed\")\n",
    "        self.m = m\n",
    "        self.y = y0\n",
    "        self.v = v0\n",
    "        self.t = 0.0\n",
    "        self.tf = tf\n",
    "        self.dt = dt\n",
    "        self.tarray = np.arange(0.0, tf+0.5*self.dt, self.dt) # NumPy array filled with time steps\n",
    "        self.test = []\n",
    "        \n",
    "    def F(self, y, v, t):\n",
    "        # force on a free particle\n",
    "        return 0.0\n",
    "\n",
    "    def Euler_step(self): \n",
    "        '''\n",
    "        Method to increment a single time step.\n",
    "        '''\n",
    "        a = self.F(self.y, self.v, self.t) / self.m\n",
    "        self.y += self.v * self.dt\n",
    "        self.v += a * self.dt\n",
    "        self.t += self.dt\n",
    "\n",
    "    def trajectory(self):\n",
    "        x_array = []\n",
    "        v_array = []\n",
    "        \n",
    "        while(self.t < self.tf-self.dt/2):\n",
    "            v_array.append(self.v)\n",
    "            x_array.append(self.x)\n",
    "            \n",
    "            #propigate in time using an Euler Method\n",
    "            self.Euler_step()\n",
    "        \n",
    "        self.x_array = np.array(x_array)\n",
    "        self.v_array = np.array(v_array)\n",
    "\n",
    "    \n",
    "    def plot(self):\n",
    "        fig1 = plt.figure()\n",
    "        ax1 = fig1.add_subplot(121)\n",
    "        ax2 = fig1.add_subplot(122)\n",
    "        \n",
    "        ax1.plot(self.tarray, self.x_array, \"k\", label = 'euler')\n",
    "        ax2.plot(self.xv[:, 0], self.v_array, \"k\", label = 'euler')\n",
    "    \n",
    "    \n",
    "        ax1.set_title('Trajectory')\n",
    "        ax1.set_xlabel(\"t\")\n",
    "        ax1.set_ylabel(\"x\")\n",
    "        \n",
    "        ax2.set_title('Phase space')\n",
    "        ax2.set_xlabel(\"v\")\n",
    "        ax2.set_ylabel(\"x\")\n",
    "\n",
    "        ax1.legend()\n",
    "        ax2.legend()\n",
    "\n",
    "\n",
    "    def results(self):\n",
    "        \"\"\"\" \n",
    "        Method to display the results at a given final time\n",
    "        \"\"\"\n",
    "        \n",
    "        print('\\nPosition and Velocity at Final Time:')\n",
    "        print('Euler:')\n",
    "        print('t = {0:0.2f} s | y = {1:0.3f} m | v = {2:0.3f} m/s'.format(self.t, self.y , self.v))"
   ]
  },
  {
   "cell_type": "code",
   "execution_count": 16,
   "metadata": {},
   "outputs": [
    {
     "name": "stdout",
     "output_type": "stream",
     "text": [
      "Particle init'ed\n"
     ]
    }
   ],
   "source": [
    "ball = Particle()"
   ]
  },
  {
   "cell_type": "code",
   "execution_count": 19,
   "metadata": {},
   "outputs": [],
   "source": [
    "ball.Euler_step()"
   ]
  },
  {
   "cell_type": "code",
   "execution_count": 20,
   "metadata": {},
   "outputs": [
    {
     "name": "stdout",
     "output_type": "stream",
     "text": [
      "\n",
      "Position and Velocity at Final Time:\n",
      "Euler:\n",
      "t = 0.02 s | y = 1.000 m | v = 0.000 m/s\n"
     ]
    }
   ],
   "source": [
    "ball.results()"
   ]
  },
  {
   "cell_type": "code",
   "execution_count": 21,
   "metadata": {},
   "outputs": [
    {
     "data": {
      "text/plain": [
       "1.0"
      ]
     },
     "execution_count": 21,
     "metadata": {},
     "output_type": "execute_result"
    }
   ],
   "source": [
    "ball.m"
   ]
  },
  {
   "cell_type": "code",
   "execution_count": null,
   "metadata": {},
   "outputs": [],
   "source": []
  }
 ],
 "metadata": {
  "kernelspec": {
   "display_name": "Python 3",
   "language": "python",
   "name": "python3"
  },
  "language_info": {
   "codemirror_mode": {
    "name": "ipython",
    "version": 3
   },
   "file_extension": ".py",
   "mimetype": "text/x-python",
   "name": "python",
   "nbconvert_exporter": "python",
   "pygments_lexer": "ipython3",
   "version": "3.6.8"
  }
 },
 "nbformat": 4,
 "nbformat_minor": 2
}
